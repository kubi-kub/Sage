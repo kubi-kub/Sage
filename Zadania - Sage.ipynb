{
 "cells": [
  {
   "cell_type": "markdown",
   "metadata": {},
   "source": [
    "# SageMath - Zadania"
   ]
  },
  {
   "cell_type": "markdown",
   "metadata": {},
   "source": [
    "#Zad.1.1."
   ]
  },
  {
   "cell_type": "code",
   "execution_count": 1,
   "metadata": {},
   "outputs": [
    {
     "data": {
      "text/plain": [
       "[x == -2, x == -1]"
      ]
     },
     "execution_count": 1,
     "metadata": {},
     "output_type": "execute_result"
    }
   ],
   "source": [
    "solve(x^2 + 3*x + 2 == 0, x)"
   ]
  },
  {
   "cell_type": "code",
   "execution_count": 2,
   "metadata": {},
   "outputs": [
    {
     "data": {
      "text/plain": [
       "[x == -1/2*sqrt(21) - 9/2, x == 1/2*sqrt(21) - 9/2]"
      ]
     },
     "execution_count": 2,
     "metadata": {},
     "output_type": "execute_result"
    }
   ],
   "source": [
    "solve(x^2 + 9*x + 15 == 0, x)"
   ]
  },
  {
   "cell_type": "code",
   "execution_count": 3,
   "metadata": {},
   "outputs": [
    {
     "data": {
      "text/html": [
       "<html><script type=\"math/tex; mode=display\">\\newcommand{\\Bold}[1]{\\mathbf{#1}}\\left[x = -\\frac{1}{2} \\, \\sqrt{21} - \\frac{9}{2}, x = \\frac{1}{2} \\, \\sqrt{21} - \\frac{9}{2}\\right]</script></html>"
      ],
      "text/latex": [
       "\\begin{math}\n",
       "\\newcommand{\\Bold}[1]{\\mathbf{#1}}\\left[x = -\\frac{1}{2} \\, \\sqrt{21} - \\frac{9}{2}, x = \\frac{1}{2} \\, \\sqrt{21} - \\frac{9}{2}\\right]\n",
       "\\end{math}"
      ],
      "text/plain": [
       "[x == -1/2*sqrt(21) - 9/2, x == 1/2*sqrt(21) - 9/2]"
      ]
     },
     "metadata": {},
     "output_type": "display_data"
    }
   ],
   "source": [
    "show(solve(x^2 + 9*x + 15 == 0, x))"
   ]
  },
  {
   "cell_type": "markdown",
   "metadata": {},
   "source": [
    "#Zad.1.2."
   ]
  },
  {
   "cell_type": "code",
   "execution_count": 4,
   "metadata": {},
   "outputs": [],
   "source": [
    "a, b, c = var('a b c')"
   ]
  },
  {
   "cell_type": "code",
   "execution_count": 5,
   "metadata": {},
   "outputs": [
    {
     "data": {
      "text/plain": [
       "<class 'sage.symbolic.expression.Expression'>"
      ]
     },
     "execution_count": 5,
     "metadata": {},
     "output_type": "execute_result"
    }
   ],
   "source": [
    "type(a)"
   ]
  },
  {
   "cell_type": "code",
   "execution_count": 6,
   "metadata": {},
   "outputs": [
    {
     "data": {
      "text/html": [
       "<html><script type=\"math/tex; mode=display\">\\newcommand{\\Bold}[1]{\\mathbf{#1}}\\left[x = -\\frac{b + \\sqrt{b^{2} - 4 \\, a c}}{2 \\, a}, x = -\\frac{b - \\sqrt{b^{2} - 4 \\, a c}}{2 \\, a}\\right]</script></html>"
      ],
      "text/latex": [
       "\\begin{math}\n",
       "\\newcommand{\\Bold}[1]{\\mathbf{#1}}\\left[x = -\\frac{b + \\sqrt{b^{2} - 4 \\, a c}}{2 \\, a}, x = -\\frac{b - \\sqrt{b^{2} - 4 \\, a c}}{2 \\, a}\\right]\n",
       "\\end{math}"
      ],
      "text/plain": [
       "[x == -1/2*(b + sqrt(b^2 - 4*a*c))/a, x == -1/2*(b - sqrt(b^2 - 4*a*c))/a]"
      ]
     },
     "metadata": {},
     "output_type": "display_data"
    }
   ],
   "source": [
    "show(solve(a*x^2 + b*x + c == 0, x))"
   ]
  },
  {
   "cell_type": "code",
   "execution_count": 40,
   "metadata": {},
   "outputs": [
    {
     "data": {
      "text/plain": [
       "[x == -1, x == 1]"
      ]
     },
     "execution_count": 40,
     "metadata": {},
     "output_type": "execute_result"
    }
   ],
   "source": [
    "solutions = solve(a*x^2 + b*x + c == 0, x)\n",
    "[solution.substitute(a=1, b=0, c=-1) for solution in solutions]"
   ]
  },
  {
   "cell_type": "code",
   "execution_count": null,
   "metadata": {},
   "outputs": [],
   "source": []
  },
  {
   "cell_type": "markdown",
   "metadata": {},
   "source": [
    "#Zad.1.3."
   ]
  },
  {
   "cell_type": "code",
   "execution_count": 8,
   "metadata": {},
   "outputs": [
    {
     "data": {
      "text/html": [
       "<html><script type=\"math/tex; mode=display\">\\newcommand{\\Bold}[1]{\\mathbf{#1}}\\left[{\\theta} = \\frac{1}{6} \\, \\pi\\right]</script></html>"
      ],
      "text/latex": [
       "\\begin{math}\n",
       "\\newcommand{\\Bold}[1]{\\mathbf{#1}}\\left[{\\theta} = \\frac{1}{6} \\, \\pi\\right]\n",
       "\\end{math}"
      ],
      "text/plain": [
       "[theta == 1/6*pi]"
      ]
     },
     "metadata": {},
     "output_type": "display_data"
    }
   ],
   "source": [
    "theta = var('theta', latex_name = r'\\theta')\n",
    "show(solve(sin(theta)==1/2, theta))"
   ]
  },
  {
   "cell_type": "markdown",
   "metadata": {},
   "source": [
    "#Zad.1.4."
   ]
  },
  {
   "cell_type": "code",
   "execution_count": 9,
   "metadata": {},
   "outputs": [
    {
     "data": {
      "text/plain": [
       "[[x == 5, b == 1]]"
      ]
     },
     "execution_count": 9,
     "metadata": {},
     "output_type": "execute_result"
    }
   ],
   "source": [
    "x, b = var('x b')\n",
    "solve([x + b == 6, x - b == 4], x, b)"
   ]
  },
  {
   "cell_type": "markdown",
   "metadata": {},
   "source": [
    "#Zad.1.5"
   ]
  },
  {
   "cell_type": "code",
   "execution_count": 10,
   "metadata": {},
   "outputs": [
    {
     "data": {
      "text/plain": [
       "[[a == 4, b == -3, c == 5]]"
      ]
     },
     "execution_count": 10,
     "metadata": {},
     "output_type": "execute_result"
    }
   ],
   "source": [
    "a, b, c = var('a b c')\n",
    "solve([9*a + 3*b + c == 32,\n",
    "      4*a + 2*b + c == 15,\n",
    "      a + b + c == 6], a,b,c)"
   ]
  },
  {
   "cell_type": "markdown",
   "metadata": {},
   "source": [
    "#Zad.1.6."
   ]
  },
  {
   "cell_type": "code",
   "execution_count": 11,
   "metadata": {},
   "outputs": [
    {
     "data": {
      "text/plain": [
       "[[x == -4/7*sqrt(7), y == -3/7*sqrt(7)], [x == -4/7*sqrt(7), y == 3/7*sqrt(7)], [x == 4/7*sqrt(7), y == -3/7*sqrt(7)], [x == 4/7*sqrt(7), y == 3/7*sqrt(7)]]"
      ]
     },
     "execution_count": 11,
     "metadata": {},
     "output_type": "execute_result"
    }
   ],
   "source": [
    "y = var('y')\n",
    "ellipse = (x^2/4 + y^2/3 == 1)\n",
    "hyperbole = (x^2 - y^2 == 1)\n",
    "solve([ellipse, hyperbole], x, y)"
   ]
  },
  {
   "cell_type": "code",
   "execution_count": 12,
   "metadata": {},
   "outputs": [
    {
     "data": {
      "text/html": [
       "<html><script type=\"math/tex; mode=display\">\\newcommand{\\Bold}[1]{\\mathbf{#1}}\\left[\\left[x = -\\frac{4}{7} \\, \\sqrt{7}, y = -\\frac{3}{7} \\, \\sqrt{7}\\right], \\left[x = -\\frac{4}{7} \\, \\sqrt{7}, y = \\frac{3}{7} \\, \\sqrt{7}\\right], \\left[x = \\frac{4}{7} \\, \\sqrt{7}, y = -\\frac{3}{7} \\, \\sqrt{7}\\right], \\left[x = \\frac{4}{7} \\, \\sqrt{7}, y = \\frac{3}{7} \\, \\sqrt{7}\\right]\\right]</script></html>"
      ],
      "text/latex": [
       "\\begin{math}\n",
       "\\newcommand{\\Bold}[1]{\\mathbf{#1}}\\left[\\left[x = -\\frac{4}{7} \\, \\sqrt{7}, y = -\\frac{3}{7} \\, \\sqrt{7}\\right], \\left[x = -\\frac{4}{7} \\, \\sqrt{7}, y = \\frac{3}{7} \\, \\sqrt{7}\\right], \\left[x = \\frac{4}{7} \\, \\sqrt{7}, y = -\\frac{3}{7} \\, \\sqrt{7}\\right], \\left[x = \\frac{4}{7} \\, \\sqrt{7}, y = \\frac{3}{7} \\, \\sqrt{7}\\right]\\right]\n",
       "\\end{math}"
      ],
      "text/plain": [
       "[[x == -4/7*sqrt(7), y == -3/7*sqrt(7)], [x == -4/7*sqrt(7), y == 3/7*sqrt(7)], [x == 4/7*sqrt(7), y == -3/7*sqrt(7)], [x == 4/7*sqrt(7), y == 3/7*sqrt(7)]]"
      ]
     },
     "metadata": {},
     "output_type": "display_data"
    }
   ],
   "source": [
    "show(solve([ellipse, hyperbole], x, y))"
   ]
  },
  {
   "cell_type": "markdown",
   "metadata": {},
   "source": [
    "#Zad.1.7."
   ]
  },
  {
   "cell_type": "code",
   "execution_count": 13,
   "metadata": {},
   "outputs": [
    {
     "data": {
      "text/plain": [
       "[0 == x^5 + x^4 + x^3 - x^2 + x - 1]"
      ]
     },
     "execution_count": 13,
     "metadata": {},
     "output_type": "execute_result"
    }
   ],
   "source": [
    "solve(x^5 + x^4 + x^3 - x^2 + x - 1 == 0, x)"
   ]
  },
  {
   "cell_type": "code",
   "execution_count": 14,
   "metadata": {},
   "outputs": [
    {
     "data": {
      "image/png": "[encoded data removed]",
      "text/plain": [
       "Graphics object consisting of 1 graphics primitive"
      ]
     },
     "execution_count": 14,
     "metadata": {},
     "output_type": "execute_result"
    }
   ],
   "source": [
    "plot(x^5 + x^4 + x^3 - x^2 + x - 1 == 0, x, -100, 100)"
   ]
  },
  {
   "cell_type": "code",
   "execution_count": 15,
   "metadata": {},
   "outputs": [
    {
     "data": {
      "text/plain": [
       "0.7104342557869125"
      ]
     },
     "execution_count": 15,
     "metadata": {},
     "output_type": "execute_result"
    }
   ],
   "source": [
    "find_root(x^5 + x^4 + x^3 - x^2 + x - 1, 0, 1)"
   ]
  },
  {
   "cell_type": "markdown",
   "metadata": {},
   "source": [
    "#Zad.2.1"
   ]
  },
  {
   "cell_type": "code",
   "execution_count": 16,
   "metadata": {},
   "outputs": [
    {
     "data": {
      "text/plain": [
       "2*x*cos(x^2)"
      ]
     },
     "execution_count": 16,
     "metadata": {},
     "output_type": "execute_result"
    }
   ],
   "source": [
    "f(x) = sin(x^2)\n",
    "diff(f(x))"
   ]
  },
  {
   "cell_type": "markdown",
   "metadata": {},
   "source": [
    "#Zad.2.2."
   ]
  },
  {
   "cell_type": "code",
   "execution_count": 17,
   "metadata": {},
   "outputs": [
    {
     "data": {
      "text/plain": [
       "x |--> -2*x*e^(-x^2)"
      ]
     },
     "execution_count": 17,
     "metadata": {},
     "output_type": "execute_result"
    }
   ],
   "source": [
    "f(x) = e^(-x^2)\n",
    "diff(f,x)"
   ]
  },
  {
   "cell_type": "code",
   "execution_count": 18,
   "metadata": {},
   "outputs": [
    {
     "data": {
      "text/html": [
       "<html><script type=\"math/tex; mode=display\">\\newcommand{\\Bold}[1]{\\mathbf{#1}}x \\ {\\mapsto}\\ -2 \\, x e^{\\left(-x^{2}\\right)}</script></html>"
      ],
      "text/latex": [
       "\\begin{math}\n",
       "\\newcommand{\\Bold}[1]{\\mathbf{#1}}x \\ {\\mapsto}\\ -2 \\, x e^{\\left(-x^{2}\\right)}\n",
       "\\end{math}"
      ],
      "text/plain": [
       "x |--> -2*x*e^(-x^2)"
      ]
     },
     "metadata": {},
     "output_type": "display_data"
    },
    {
     "data": {
      "text/html": [
       "<html><script type=\"math/tex; mode=display\">\\newcommand{\\Bold}[1]{\\mathbf{#1}}x \\ {\\mapsto}\\ 4 \\, x^{2} e^{\\left(-x^{2}\\right)} - 2 \\, e^{\\left(-x^{2}\\right)}</script></html>"
      ],
      "text/latex": [
       "\\begin{math}\n",
       "\\newcommand{\\Bold}[1]{\\mathbf{#1}}x \\ {\\mapsto}\\ 4 \\, x^{2} e^{\\left(-x^{2}\\right)} - 2 \\, e^{\\left(-x^{2}\\right)}\n",
       "\\end{math}"
      ],
      "text/plain": [
       "x |--> 4*x^2*e^(-x^2) - 2*e^(-x^2)"
      ]
     },
     "metadata": {},
     "output_type": "display_data"
    },
    {
     "data": {
      "text/html": [
       "<html><script type=\"math/tex; mode=display\">\\newcommand{\\Bold}[1]{\\mathbf{#1}}x \\ {\\mapsto}\\ -8 \\, x^{3} e^{\\left(-x^{2}\\right)} + 12 \\, x e^{\\left(-x^{2}\\right)}</script></html>"
      ],
      "text/latex": [
       "\\begin{math}\n",
       "\\newcommand{\\Bold}[1]{\\mathbf{#1}}x \\ {\\mapsto}\\ -8 \\, x^{3} e^{\\left(-x^{2}\\right)} + 12 \\, x e^{\\left(-x^{2}\\right)}\n",
       "\\end{math}"
      ],
      "text/plain": [
       "x |--> -8*x^3*e^(-x^2) + 12*x*e^(-x^2)"
      ]
     },
     "metadata": {},
     "output_type": "display_data"
    },
    {
     "data": {
      "text/html": [
       "<html><script type=\"math/tex; mode=display\">\\newcommand{\\Bold}[1]{\\mathbf{#1}}x \\ {\\mapsto}\\ 16 \\, x^{4} e^{\\left(-x^{2}\\right)} - 48 \\, x^{2} e^{\\left(-x^{2}\\right)} + 12 \\, e^{\\left(-x^{2}\\right)}</script></html>"
      ],
      "text/latex": [
       "\\begin{math}\n",
       "\\newcommand{\\Bold}[1]{\\mathbf{#1}}x \\ {\\mapsto}\\ 16 \\, x^{4} e^{\\left(-x^{2}\\right)} - 48 \\, x^{2} e^{\\left(-x^{2}\\right)} + 12 \\, e^{\\left(-x^{2}\\right)}\n",
       "\\end{math}"
      ],
      "text/plain": [
       "x |--> 16*x^4*e^(-x^2) - 48*x^2*e^(-x^2) + 12*e^(-x^2)"
      ]
     },
     "metadata": {},
     "output_type": "display_data"
    },
    {
     "data": {
      "text/html": [
       "<html><script type=\"math/tex; mode=display\">\\newcommand{\\Bold}[1]{\\mathbf{#1}}x \\ {\\mapsto}\\ -32 \\, x^{5} e^{\\left(-x^{2}\\right)} + 160 \\, x^{3} e^{\\left(-x^{2}\\right)} - 120 \\, x e^{\\left(-x^{2}\\right)}</script></html>"
      ],
      "text/latex": [
       "\\begin{math}\n",
       "\\newcommand{\\Bold}[1]{\\mathbf{#1}}x \\ {\\mapsto}\\ -32 \\, x^{5} e^{\\left(-x^{2}\\right)} + 160 \\, x^{3} e^{\\left(-x^{2}\\right)} - 120 \\, x e^{\\left(-x^{2}\\right)}\n",
       "\\end{math}"
      ],
      "text/plain": [
       "x |--> -32*x^5*e^(-x^2) + 160*x^3*e^(-x^2) - 120*x*e^(-x^2)"
      ]
     },
     "metadata": {},
     "output_type": "display_data"
    },
    {
     "data": {
      "text/html": [
       "<html><script type=\"math/tex; mode=display\">\\newcommand{\\Bold}[1]{\\mathbf{#1}}x \\ {\\mapsto}\\ 64 \\, x^{6} e^{\\left(-x^{2}\\right)} - 480 \\, x^{4} e^{\\left(-x^{2}\\right)} + 720 \\, x^{2} e^{\\left(-x^{2}\\right)} - 120 \\, e^{\\left(-x^{2}\\right)}</script></html>"
      ],
      "text/latex": [
       "\\begin{math}\n",
       "\\newcommand{\\Bold}[1]{\\mathbf{#1}}x \\ {\\mapsto}\\ 64 \\, x^{6} e^{\\left(-x^{2}\\right)} - 480 \\, x^{4} e^{\\left(-x^{2}\\right)} + 720 \\, x^{2} e^{\\left(-x^{2}\\right)} - 120 \\, e^{\\left(-x^{2}\\right)}\n",
       "\\end{math}"
      ],
      "text/plain": [
       "x |--> 64*x^6*e^(-x^2) - 480*x^4*e^(-x^2) + 720*x^2*e^(-x^2) - 120*e^(-x^2)"
      ]
     },
     "metadata": {},
     "output_type": "display_data"
    },
    {
     "data": {
      "text/html": [
       "<html><script type=\"math/tex; mode=display\">\\newcommand{\\Bold}[1]{\\mathbf{#1}}x \\ {\\mapsto}\\ -128 \\, x^{7} e^{\\left(-x^{2}\\right)} + 1344 \\, x^{5} e^{\\left(-x^{2}\\right)} - 3360 \\, x^{3} e^{\\left(-x^{2}\\right)} + 1680 \\, x e^{\\left(-x^{2}\\right)}</script></html>"
      ],
      "text/latex": [
       "\\begin{math}\n",
       "\\newcommand{\\Bold}[1]{\\mathbf{#1}}x \\ {\\mapsto}\\ -128 \\, x^{7} e^{\\left(-x^{2}\\right)} + 1344 \\, x^{5} e^{\\left(-x^{2}\\right)} - 3360 \\, x^{3} e^{\\left(-x^{2}\\right)} + 1680 \\, x e^{\\left(-x^{2}\\right)}\n",
       "\\end{math}"
      ],
      "text/plain": [
       "x |--> -128*x^7*e^(-x^2) + 1344*x^5*e^(-x^2) - 3360*x^3*e^(-x^2) + 1680*x*e^(-x^2)"
      ]
     },
     "metadata": {},
     "output_type": "display_data"
    },
    {
     "data": {
      "text/html": [
       "<html><script type=\"math/tex; mode=display\">\\newcommand{\\Bold}[1]{\\mathbf{#1}}x \\ {\\mapsto}\\ 256 \\, x^{8} e^{\\left(-x^{2}\\right)} - 3584 \\, x^{6} e^{\\left(-x^{2}\\right)} + 13440 \\, x^{4} e^{\\left(-x^{2}\\right)} - 13440 \\, x^{2} e^{\\left(-x^{2}\\right)} + 1680 \\, e^{\\left(-x^{2}\\right)}</script></html>"
      ],
      "text/latex": [
       "\\begin{math}\n",
       "\\newcommand{\\Bold}[1]{\\mathbf{#1}}x \\ {\\mapsto}\\ 256 \\, x^{8} e^{\\left(-x^{2}\\right)} - 3584 \\, x^{6} e^{\\left(-x^{2}\\right)} + 13440 \\, x^{4} e^{\\left(-x^{2}\\right)} - 13440 \\, x^{2} e^{\\left(-x^{2}\\right)} + 1680 \\, e^{\\left(-x^{2}\\right)}\n",
       "\\end{math}"
      ],
      "text/plain": [
       "x |--> 256*x^8*e^(-x^2) - 3584*x^6*e^(-x^2) + 13440*x^4*e^(-x^2) - 13440*x^2*e^(-x^2) + 1680*e^(-x^2)"
      ]
     },
     "metadata": {},
     "output_type": "display_data"
    },
    {
     "data": {
      "text/html": [
       "<html><script type=\"math/tex; mode=display\">\\newcommand{\\Bold}[1]{\\mathbf{#1}}x \\ {\\mapsto}\\ -512 \\, x^{9} e^{\\left(-x^{2}\\right)} + 9216 \\, x^{7} e^{\\left(-x^{2}\\right)} - 48384 \\, x^{5} e^{\\left(-x^{2}\\right)} + 80640 \\, x^{3} e^{\\left(-x^{2}\\right)} - 30240 \\, x e^{\\left(-x^{2}\\right)}</script></html>"
      ],
      "text/latex": [
       "\\begin{math}\n",
       "\\newcommand{\\Bold}[1]{\\mathbf{#1}}x \\ {\\mapsto}\\ -512 \\, x^{9} e^{\\left(-x^{2}\\right)} + 9216 \\, x^{7} e^{\\left(-x^{2}\\right)} - 48384 \\, x^{5} e^{\\left(-x^{2}\\right)} + 80640 \\, x^{3} e^{\\left(-x^{2}\\right)} - 30240 \\, x e^{\\left(-x^{2}\\right)}\n",
       "\\end{math}"
      ],
      "text/plain": [
       "x |--> -512*x^9*e^(-x^2) + 9216*x^7*e^(-x^2) - 48384*x^5*e^(-x^2) + 80640*x^3*e^(-x^2) - 30240*x*e^(-x^2)"
      ]
     },
     "metadata": {},
     "output_type": "display_data"
    },
    {
     "data": {
      "text/html": [
       "<html><script type=\"math/tex; mode=display\">\\newcommand{\\Bold}[1]{\\mathbf{#1}}x \\ {\\mapsto}\\ 1024 \\, x^{10} e^{\\left(-x^{2}\\right)} - 23040 \\, x^{8} e^{\\left(-x^{2}\\right)} + 161280 \\, x^{6} e^{\\left(-x^{2}\\right)} - 403200 \\, x^{4} e^{\\left(-x^{2}\\right)} + 302400 \\, x^{2} e^{\\left(-x^{2}\\right)} - 30240 \\, e^{\\left(-x^{2}\\right)}</script></html>"
      ],
      "text/latex": [
       "\\begin{math}\n",
       "\\newcommand{\\Bold}[1]{\\mathbf{#1}}x \\ {\\mapsto}\\ 1024 \\, x^{10} e^{\\left(-x^{2}\\right)} - 23040 \\, x^{8} e^{\\left(-x^{2}\\right)} + 161280 \\, x^{6} e^{\\left(-x^{2}\\right)} - 403200 \\, x^{4} e^{\\left(-x^{2}\\right)} + 302400 \\, x^{2} e^{\\left(-x^{2}\\right)} - 30240 \\, e^{\\left(-x^{2}\\right)}\n",
       "\\end{math}"
      ],
      "text/plain": [
       "x |--> 1024*x^10*e^(-x^2) - 23040*x^8*e^(-x^2) + 161280*x^6*e^(-x^2) - 403200*x^4*e^(-x^2) + 302400*x^2*e^(-x^2) - 30240*e^(-x^2)"
      ]
     },
     "metadata": {},
     "output_type": "display_data"
    }
   ],
   "source": [
    "for i in range(1,11):\n",
    "    show(diff(f, x, i))"
   ]
  },
  {
   "cell_type": "markdown",
   "metadata": {},
   "source": [
    "#Zad.2.3."
   ]
  },
  {
   "cell_type": "code",
   "execution_count": 19,
   "metadata": {},
   "outputs": [],
   "source": [
    "f(x) = (x^3 - x + 1) *e^x"
   ]
  },
  {
   "cell_type": "code",
   "execution_count": 20,
   "metadata": {},
   "outputs": [
    {
     "data": {
      "text/plain": [
       "(x^3 - x + 1)*e^x + 10*(3*x^2 - 1)*e^x + 270*x*e^x + 720*e^x == 0"
      ]
     },
     "execution_count": 20,
     "metadata": {},
     "output_type": "execute_result"
    }
   ],
   "source": [
    "diff(f(x), x, 10) == 0"
   ]
  },
  {
   "cell_type": "code",
   "execution_count": 21,
   "metadata": {},
   "outputs": [
    {
     "data": {
      "text/html": [
       "<html><script type=\"math/tex; mode=display\">\\newcommand{\\Bold}[1]{\\mathbf{#1}}\\left[x = -\\frac{1}{2} \\, {\\left(\\frac{1}{18} i \\, \\sqrt{107257} \\sqrt{3} - \\frac{21}{2}\\right)}^{\\frac{1}{3}} {\\left(i \\, \\sqrt{3} + 1\\right)} - \\frac{31 \\, {\\left(-i \\, \\sqrt{3} + 1\\right)}}{6 \\, {\\left(\\frac{1}{18} i \\, \\sqrt{107257} \\sqrt{3} - \\frac{21}{2}\\right)}^{\\frac{1}{3}}} - 10, x = -\\frac{1}{2} \\, {\\left(\\frac{1}{18} i \\, \\sqrt{107257} \\sqrt{3} - \\frac{21}{2}\\right)}^{\\frac{1}{3}} {\\left(-i \\, \\sqrt{3} + 1\\right)} - \\frac{31 \\, {\\left(i \\, \\sqrt{3} + 1\\right)}}{6 \\, {\\left(\\frac{1}{18} i \\, \\sqrt{107257} \\sqrt{3} - \\frac{21}{2}\\right)}^{\\frac{1}{3}}} - 10, x = {\\left(\\frac{1}{18} i \\, \\sqrt{107257} \\sqrt{3} - \\frac{21}{2}\\right)}^{\\frac{1}{3}} + \\frac{31}{3 \\, {\\left(\\frac{1}{18} i \\, \\sqrt{107257} \\sqrt{3} - \\frac{21}{2}\\right)}^{\\frac{1}{3}}} - 10\\right]</script></html>"
      ],
      "text/latex": [
       "\\begin{math}\n",
       "\\newcommand{\\Bold}[1]{\\mathbf{#1}}\\left[x = -\\frac{1}{2} \\, {\\left(\\frac{1}{18} i \\, \\sqrt{107257} \\sqrt{3} - \\frac{21}{2}\\right)}^{\\frac{1}{3}} {\\left(i \\, \\sqrt{3} + 1\\right)} - \\frac{31 \\, {\\left(-i \\, \\sqrt{3} + 1\\right)}}{6 \\, {\\left(\\frac{1}{18} i \\, \\sqrt{107257} \\sqrt{3} - \\frac{21}{2}\\right)}^{\\frac{1}{3}}} - 10, x = -\\frac{1}{2} \\, {\\left(\\frac{1}{18} i \\, \\sqrt{107257} \\sqrt{3} - \\frac{21}{2}\\right)}^{\\frac{1}{3}} {\\left(-i \\, \\sqrt{3} + 1\\right)} - \\frac{31 \\, {\\left(i \\, \\sqrt{3} + 1\\right)}}{6 \\, {\\left(\\frac{1}{18} i \\, \\sqrt{107257} \\sqrt{3} - \\frac{21}{2}\\right)}^{\\frac{1}{3}}} - 10, x = {\\left(\\frac{1}{18} i \\, \\sqrt{107257} \\sqrt{3} - \\frac{21}{2}\\right)}^{\\frac{1}{3}} + \\frac{31}{3 \\, {\\left(\\frac{1}{18} i \\, \\sqrt{107257} \\sqrt{3} - \\frac{21}{2}\\right)}^{\\frac{1}{3}}} - 10\\right]\n",
       "\\end{math}"
      ],
      "text/plain": [
       "[x == -1/2*(1/18*I*sqrt(107257)*sqrt(3) - 21/2)^(1/3)*(I*sqrt(3) + 1) - 31/6*(-I*sqrt(3) + 1)/(1/18*I*sqrt(107257)*sqrt(3) - 21/2)^(1/3) - 10, x == -1/2*(1/18*I*sqrt(107257)*sqrt(3) - 21/2)^(1/3)*(-I*sqrt(3) + 1) - 31/6*(I*sqrt(3) + 1)/(1/18*I*sqrt(107257)*sqrt(3) - 21/2)^(1/3) - 10, x == (1/18*I*sqrt(107257)*sqrt(3) - 21/2)^(1/3) + 31/3/(1/18*I*sqrt(107257)*sqrt(3) - 21/2)^(1/3) - 10]"
      ]
     },
     "metadata": {},
     "output_type": "display_data"
    }
   ],
   "source": [
    "show(solve(diff(f(x), x, 10) == 0, x))"
   ]
  },
  {
   "cell_type": "markdown",
   "metadata": {},
   "source": [
    "#Zad.2.4."
   ]
  },
  {
   "cell_type": "code",
   "execution_count": 22,
   "metadata": {},
   "outputs": [
    {
     "data": {
      "text/html": [
       "<html><script type=\"math/tex; mode=display\">\\newcommand{\\Bold}[1]{\\mathbf{#1}}\\left[\\frac{1}{2} \\, x^{2}, \\frac{1}{3} \\, x^{3}, \\frac{1}{4} \\, x^{4}, \\frac{1}{5} \\, x^{5}, \\frac{1}{6} \\, x^{6}\\right]</script></html>"
      ],
      "text/latex": [
       "\\begin{math}\n",
       "\\newcommand{\\Bold}[1]{\\mathbf{#1}}\\left[\\frac{1}{2} \\, x^{2}, \\frac{1}{3} \\, x^{3}, \\frac{1}{4} \\, x^{4}, \\frac{1}{5} \\, x^{5}, \\frac{1}{6} \\, x^{6}\\right]\n",
       "\\end{math}"
      ],
      "text/plain": [
       "[1/2*x^2, 1/3*x^3, 1/4*x^4, 1/5*x^5, 1/6*x^6]"
      ]
     },
     "metadata": {},
     "output_type": "display_data"
    }
   ],
   "source": [
    "integrals = [integral(x^i, x) for i in range(1, 6)]\n",
    "show(integrals)"
   ]
  },
  {
   "cell_type": "code",
   "execution_count": 23,
   "metadata": {},
   "outputs": [
    {
     "data": {
      "text/html": [
       "<html><script type=\"math/tex; mode=display\">\\newcommand{\\Bold}[1]{\\mathbf{#1}}\\frac{1}{2} \\, x^{2}</script></html>"
      ],
      "text/latex": [
       "\\begin{math}\n",
       "\\newcommand{\\Bold}[1]{\\mathbf{#1}}\\frac{1}{2} \\, x^{2}\n",
       "\\end{math}"
      ],
      "text/plain": [
       "1/2*x^2"
      ]
     },
     "metadata": {},
     "output_type": "display_data"
    },
    {
     "data": {
      "text/html": [
       "<html><script type=\"math/tex; mode=display\">\\newcommand{\\Bold}[1]{\\mathbf{#1}}\\frac{1}{3} \\, x^{3}</script></html>"
      ],
      "text/latex": [
       "\\begin{math}\n",
       "\\newcommand{\\Bold}[1]{\\mathbf{#1}}\\frac{1}{3} \\, x^{3}\n",
       "\\end{math}"
      ],
      "text/plain": [
       "1/3*x^3"
      ]
     },
     "metadata": {},
     "output_type": "display_data"
    },
    {
     "data": {
      "text/html": [
       "<html><script type=\"math/tex; mode=display\">\\newcommand{\\Bold}[1]{\\mathbf{#1}}\\frac{1}{4} \\, x^{4}</script></html>"
      ],
      "text/latex": [
       "\\begin{math}\n",
       "\\newcommand{\\Bold}[1]{\\mathbf{#1}}\\frac{1}{4} \\, x^{4}\n",
       "\\end{math}"
      ],
      "text/plain": [
       "1/4*x^4"
      ]
     },
     "metadata": {},
     "output_type": "display_data"
    },
    {
     "data": {
      "text/html": [
       "<html><script type=\"math/tex; mode=display\">\\newcommand{\\Bold}[1]{\\mathbf{#1}}\\frac{1}{5} \\, x^{5}</script></html>"
      ],
      "text/latex": [
       "\\begin{math}\n",
       "\\newcommand{\\Bold}[1]{\\mathbf{#1}}\\frac{1}{5} \\, x^{5}\n",
       "\\end{math}"
      ],
      "text/plain": [
       "1/5*x^5"
      ]
     },
     "metadata": {},
     "output_type": "display_data"
    }
   ],
   "source": [
    "for i in range(1,5):\n",
    "    show(integral(x^i, x))"
   ]
  },
  {
   "cell_type": "code",
   "execution_count": 24,
   "metadata": {},
   "outputs": [
    {
     "data": {
      "text/html": [
       "<html><script type=\"math/tex; mode=display\">\\newcommand{\\Bold}[1]{\\mathbf{#1}}x</script></html>"
      ],
      "text/latex": [
       "\\begin{math}\n",
       "\\newcommand{\\Bold}[1]{\\mathbf{#1}}x\n",
       "\\end{math}"
      ],
      "text/plain": [
       "x"
      ]
     },
     "metadata": {},
     "output_type": "display_data"
    },
    {
     "data": {
      "text/html": [
       "<html><script type=\"math/tex; mode=display\">\\newcommand{\\Bold}[1]{\\mathbf{#1}}x^{2}</script></html>"
      ],
      "text/latex": [
       "\\begin{math}\n",
       "\\newcommand{\\Bold}[1]{\\mathbf{#1}}x^{2}\n",
       "\\end{math}"
      ],
      "text/plain": [
       "x^2"
      ]
     },
     "metadata": {},
     "output_type": "display_data"
    },
    {
     "data": {
      "text/html": [
       "<html><script type=\"math/tex; mode=display\">\\newcommand{\\Bold}[1]{\\mathbf{#1}}x^{3}</script></html>"
      ],
      "text/latex": [
       "\\begin{math}\n",
       "\\newcommand{\\Bold}[1]{\\mathbf{#1}}x^{3}\n",
       "\\end{math}"
      ],
      "text/plain": [
       "x^3"
      ]
     },
     "metadata": {},
     "output_type": "display_data"
    },
    {
     "data": {
      "text/html": [
       "<html><script type=\"math/tex; mode=display\">\\newcommand{\\Bold}[1]{\\mathbf{#1}}x^{4}</script></html>"
      ],
      "text/latex": [
       "\\begin{math}\n",
       "\\newcommand{\\Bold}[1]{\\mathbf{#1}}x^{4}\n",
       "\\end{math}"
      ],
      "text/plain": [
       "x^4"
      ]
     },
     "metadata": {},
     "output_type": "display_data"
    },
    {
     "data": {
      "text/html": [
       "<html><script type=\"math/tex; mode=display\">\\newcommand{\\Bold}[1]{\\mathbf{#1}}x^{5}</script></html>"
      ],
      "text/latex": [
       "\\begin{math}\n",
       "\\newcommand{\\Bold}[1]{\\mathbf{#1}}x^{5}\n",
       "\\end{math}"
      ],
      "text/plain": [
       "x^5"
      ]
     },
     "metadata": {},
     "output_type": "display_data"
    }
   ],
   "source": [
    "for i in range(1,6):\n",
    "    show(diff(integral(x^i, x),x))"
   ]
  },
  {
   "cell_type": "code",
   "execution_count": 25,
   "metadata": {},
   "outputs": [
    {
     "data": {
      "text/plain": [
       "[x, x^2, x^3, x^4, x^5]"
      ]
     },
     "execution_count": 25,
     "metadata": {},
     "output_type": "execute_result"
    }
   ],
   "source": [
    "[diff(F, x) for F in integrals]"
   ]
  },
  {
   "cell_type": "markdown",
   "metadata": {},
   "source": [
    "#Zad.2.5."
   ]
  },
  {
   "cell_type": "code",
   "execution_count": 26,
   "metadata": {},
   "outputs": [
    {
     "data": {
      "text/plain": [
       "x^(a + 1)/(a + 1)"
      ]
     },
     "execution_count": 26,
     "metadata": {},
     "output_type": "execute_result"
    }
   ],
   "source": [
    "a = var('a')\n",
    "assume (a != -1)\n",
    "integral(x^a, x)"
   ]
  },
  {
   "cell_type": "code",
   "execution_count": 27,
   "metadata": {},
   "outputs": [
    {
     "data": {
      "text/plain": [
       "x^a"
      ]
     },
     "execution_count": 27,
     "metadata": {},
     "output_type": "execute_result"
    }
   ],
   "source": [
    "C = var('C')\n",
    "diff(x^(a+1)/(a+1) + C, x)"
   ]
  },
  {
   "cell_type": "markdown",
   "metadata": {},
   "source": [
    "#Zad.2.6."
   ]
  },
  {
   "cell_type": "code",
   "execution_count": 28,
   "metadata": {},
   "outputs": [
    {
     "data": {
      "image/png": "[encoded data removed]",
      "text/plain": [
       "Graphics object consisting of 2 graphics primitives"
      ]
     },
     "execution_count": 28,
     "metadata": {},
     "output_type": "execute_result"
    }
   ],
   "source": [
    "plot(sin(x), [0, pi/2], fill=True)"
   ]
  },
  {
   "cell_type": "code",
   "execution_count": 29,
   "metadata": {},
   "outputs": [
    {
     "data": {
      "text/plain": [
       "1"
      ]
     },
     "execution_count": 29,
     "metadata": {},
     "output_type": "execute_result"
    }
   ],
   "source": [
    "f(x) = sin(x)\n",
    "integrate(sin(x), x, 0, pi/2)"
   ]
  },
  {
   "cell_type": "markdown",
   "metadata": {},
   "source": [
    "#Zad.2.7."
   ]
  },
  {
   "cell_type": "code",
   "execution_count": 30,
   "metadata": {},
   "outputs": [],
   "source": [
    "f(x) = (x^3 - 3*x^2 + 7*x + 2) / (x^2 - 7*x + 1)"
   ]
  },
  {
   "cell_type": "code",
   "execution_count": 31,
   "metadata": {},
   "outputs": [
    {
     "data": {
      "text/html": [
       "<html><script type=\"math/tex; mode=display\">\\newcommand{\\Bold}[1]{\\mathbf{#1}}x \\ {\\mapsto}\\ \\frac{1}{2} \\, x^{2} + \\frac{39}{5} \\, \\sqrt{5} \\log\\left(\\frac{2 \\, x - 3 \\, \\sqrt{5} - 7}{2 \\, x + 3 \\, \\sqrt{5} - 7}\\right) + 4 \\, x + 17 \\, \\log\\left(x^{2} - 7 \\, x + 1\\right)</script></html>"
      ],
      "text/latex": [
       "\\begin{math}\n",
       "\\newcommand{\\Bold}[1]{\\mathbf{#1}}x \\ {\\mapsto}\\ \\frac{1}{2} \\, x^{2} + \\frac{39}{5} \\, \\sqrt{5} \\log\\left(\\frac{2 \\, x - 3 \\, \\sqrt{5} - 7}{2 \\, x + 3 \\, \\sqrt{5} - 7}\\right) + 4 \\, x + 17 \\, \\log\\left(x^{2} - 7 \\, x + 1\\right)\n",
       "\\end{math}"
      ],
      "text/plain": [
       "x |--> 1/2*x^2 + 39/5*sqrt(5)*log((2*x - 3*sqrt(5) - 7)/(2*x + 3*sqrt(5) - 7)) + 4*x + 17*log(x^2 - 7*x + 1)"
      ]
     },
     "metadata": {},
     "output_type": "display_data"
    }
   ],
   "source": [
    "F = f.integral(x)\n",
    "show(F)"
   ]
  },
  {
   "cell_type": "code",
   "execution_count": 32,
   "metadata": {},
   "outputs": [
    {
     "data": {
      "text/html": [
       "<html><script type=\"math/tex; mode=display\">\\newcommand{\\Bold}[1]{\\mathbf{#1}}-\\frac{39}{5} \\, \\sqrt{5} \\log\\left(\\frac{3 \\, \\sqrt{5} + 5}{3 \\, \\sqrt{5} - 5}\\right) + \\frac{39}{5} \\, \\sqrt{5} \\log\\left(\\frac{\\sqrt{5} + 1}{\\sqrt{5} - 1}\\right) - 17 \\, \\log\\left(5\\right) + 34 \\, \\log\\left(3\\right) + \\frac{11}{2}</script></html>"
      ],
      "text/latex": [
       "\\begin{math}\n",
       "\\newcommand{\\Bold}[1]{\\mathbf{#1}}-\\frac{39}{5} \\, \\sqrt{5} \\log\\left(\\frac{3 \\, \\sqrt{5} + 5}{3 \\, \\sqrt{5} - 5}\\right) + \\frac{39}{5} \\, \\sqrt{5} \\log\\left(\\frac{\\sqrt{5} + 1}{\\sqrt{5} - 1}\\right) - 17 \\, \\log\\left(5\\right) + 34 \\, \\log\\left(3\\right) + \\frac{11}{2}\n",
       "\\end{math}"
      ],
      "text/plain": [
       "-39/5*sqrt(5)*log((3*sqrt(5) + 5)/(3*sqrt(5) - 5)) + 39/5*sqrt(5)*log((sqrt(5) + 1)/(sqrt(5) - 1)) - 17*log(5) + 34*log(3) + 11/2"
      ]
     },
     "metadata": {},
     "output_type": "display_data"
    }
   ],
   "source": [
    "show((F(2) - F(1)).simplify_full())"
   ]
  },
  {
   "cell_type": "code",
   "execution_count": 33,
   "metadata": {},
   "outputs": [
    {
     "data": {
      "text/html": [
       "<html><script type=\"math/tex; mode=display\">\\newcommand{\\Bold}[1]{\\mathbf{#1}}-\\frac{39}{5} \\, \\sqrt{5} \\log\\left(\\frac{3}{2} \\, \\sqrt{5} + \\frac{7}{2}\\right) + \\frac{39}{5} \\, \\sqrt{5} \\log\\left(\\frac{1}{2} \\, \\sqrt{5} + \\frac{3}{2}\\right) - 17 \\, \\log\\left(5\\right) + 34 \\, \\log\\left(3\\right) + \\frac{11}{2}</script></html>"
      ],
      "text/latex": [
       "\\begin{math}\n",
       "\\newcommand{\\Bold}[1]{\\mathbf{#1}}-\\frac{39}{5} \\, \\sqrt{5} \\log\\left(\\frac{3}{2} \\, \\sqrt{5} + \\frac{7}{2}\\right) + \\frac{39}{5} \\, \\sqrt{5} \\log\\left(\\frac{1}{2} \\, \\sqrt{5} + \\frac{3}{2}\\right) - 17 \\, \\log\\left(5\\right) + 34 \\, \\log\\left(3\\right) + \\frac{11}{2}\n",
       "\\end{math}"
      ],
      "text/plain": [
       "-39/5*sqrt(5)*log(3/2*sqrt(5) + 7/2) + 39/5*sqrt(5)*log(1/2*sqrt(5) + 3/2) - 17*log(5) + 34*log(3) + 11/2"
      ]
     },
     "metadata": {},
     "output_type": "display_data"
    }
   ],
   "source": [
    "show(integrate(f, x, 1, 2))"
   ]
  },
  {
   "cell_type": "code",
   "execution_count": 34,
   "metadata": {},
   "outputs": [
    {
     "data": {
      "text/plain": [
       "-1.29357539426013"
      ]
     },
     "execution_count": 34,
     "metadata": {},
     "output_type": "execute_result"
    }
   ],
   "source": [
    "integrate(f, x, 1, 2) .n()"
   ]
  },
  {
   "cell_type": "code",
   "execution_count": 35,
   "metadata": {},
   "outputs": [
    {
     "data": {
      "text/plain": [
       "-1.29357539426013"
      ]
     },
     "execution_count": 35,
     "metadata": {},
     "output_type": "execute_result"
    }
   ],
   "source": [
    "(F(2) - F(1)) .n()"
   ]
  },
  {
   "cell_type": "code",
   "execution_count": 36,
   "metadata": {},
   "outputs": [
    {
     "data": {
      "text/plain": [
       "False"
      ]
     },
     "execution_count": 36,
     "metadata": {},
     "output_type": "execute_result"
    }
   ],
   "source": [
    "bool(integrate(f, x, 1, 2) .n() == (F(2) - F(1)))"
   ]
  },
  {
   "cell_type": "code",
   "execution_count": null,
   "metadata": {},
   "outputs": [],
   "source": []
  }
 ],
 "metadata": {
  "kernelspec": {
   "display_name": "SageMath 9.2",
   "language": "sage",
   "name": "sagemath"
  },
  "language_info": {
   "codemirror_mode": {
    "name": "ipython",
    "version": 3
   },
   "file_extension": ".py",
   "mimetype": "text/x-python",
   "name": "python",
   "nbconvert_exporter": "python",
   "pygments_lexer": "ipython3",
   "version": "3.7.7"
  }
 },
 "nbformat": 4,
 "nbformat_minor": 4
}
